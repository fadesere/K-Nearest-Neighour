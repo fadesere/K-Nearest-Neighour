{
 "cells": [
  {
   "cell_type": "code",
   "execution_count": 3,
   "metadata": {},
   "outputs": [
    {
     "name": "stdout",
     "output_type": "stream",
     "text": [
      "Requirement already satisfied: orange3 in c:\\users\\toluw\\anaconda3\\lib\\site-packages (3.32.0)\n",
      "Requirement already satisfied: orange-widget-base>=4.16.1 in c:\\users\\toluw\\anaconda3\\lib\\site-packages (from orange3) (4.17.0)\n",
      "Requirement already satisfied: pyqtgraph!=0.12.4,>=0.11.1 in c:\\users\\toluw\\anaconda3\\lib\\site-packages (from orange3) (0.12.3)\n",
      "Requirement already satisfied: xlsxwriter in c:\\users\\toluw\\anaconda3\\lib\\site-packages (from orange3) (3.0.3)\n",
      "Requirement already satisfied: chardet>=3.0.2 in c:\\users\\toluw\\anaconda3\\lib\\site-packages (from orange3) (4.0.0)\n",
      "Requirement already satisfied: AnyQt>=0.0.13 in c:\\users\\toluw\\anaconda3\\lib\\site-packages (from orange3) (0.2.0)\n",
      "Requirement already satisfied: xlrd>=0.9.2 in c:\\users\\toluw\\anaconda3\\lib\\site-packages (from orange3) (2.0.1)\n",
      "Requirement already satisfied: keyring in c:\\users\\toluw\\anaconda3\\lib\\site-packages (from orange3) (23.4.0)\n",
      "Requirement already satisfied: keyrings.alt in c:\\users\\toluw\\anaconda3\\lib\\site-packages (from orange3) (4.1.1)\n",
      "Requirement already satisfied: PyQtWebEngine>=5.12 in c:\\users\\toluw\\anaconda3\\lib\\site-packages (from orange3) (5.15.6)\n",
      "Requirement already satisfied: requests in c:\\users\\toluw\\anaconda3\\lib\\site-packages (from orange3) (2.27.1)\n",
      "Requirement already satisfied: pygments>=2.8.0 in c:\\users\\toluw\\anaconda3\\lib\\site-packages (from orange3) (2.11.2)\n",
      "Requirement already satisfied: bottleneck>=1.3.2 in c:\\users\\toluw\\anaconda3\\lib\\site-packages (from orange3) (1.3.4)\n",
      "Requirement already satisfied: pip>=18.0 in c:\\users\\toluw\\anaconda3\\lib\\site-packages (from orange3) (21.2.4)\n",
      "Requirement already satisfied: matplotlib>=2.2.5 in c:\\users\\toluw\\anaconda3\\lib\\site-packages (from orange3) (3.5.1)\n",
      "Requirement already satisfied: pandas>=1.3.0 in c:\\users\\toluw\\anaconda3\\lib\\site-packages (from orange3) (1.4.2)\n",
      "Requirement already satisfied: serverfiles in c:\\users\\toluw\\anaconda3\\lib\\site-packages (from orange3) (0.3.1)\n",
      "Requirement already satisfied: numpy>=1.17.3 in c:\\users\\toluw\\anaconda3\\lib\\site-packages (from orange3) (1.21.5)\n",
      "Requirement already satisfied: setuptools>=41.0.0 in c:\\users\\toluw\\anaconda3\\lib\\site-packages (from orange3) (61.2.0)\n",
      "Requirement already satisfied: openpyxl in c:\\users\\toluw\\anaconda3\\lib\\site-packages (from orange3) (3.0.9)\n",
      "Requirement already satisfied: scikit-learn>=1.0.1 in c:\\users\\toluw\\anaconda3\\lib\\site-packages (from orange3) (1.0.2)\n",
      "Requirement already satisfied: python-louvain>=0.13 in c:\\users\\toluw\\anaconda3\\lib\\site-packages (from orange3) (0.16)\n",
      "Requirement already satisfied: pyyaml in c:\\users\\toluw\\anaconda3\\lib\\site-packages (from orange3) (6.0)\n",
      "Requirement already satisfied: networkx in c:\\users\\toluw\\anaconda3\\lib\\site-packages (from orange3) (2.7.1)\n",
      "Requirement already satisfied: baycomp>=1.0.2 in c:\\users\\toluw\\anaconda3\\lib\\site-packages (from orange3) (1.0.2)\n",
      "Requirement already satisfied: orange-canvas-core<0.2a,>=0.1.24 in c:\\users\\toluw\\anaconda3\\lib\\site-packages (from orange3) (0.1.27)\n",
      "Requirement already satisfied: httpx>=0.21.0 in c:\\users\\toluw\\anaconda3\\lib\\site-packages (from orange3) (0.23.0)\n",
      "Requirement already satisfied: qtconsole>=4.7.2 in c:\\users\\toluw\\anaconda3\\lib\\site-packages (from orange3) (5.3.0)\n",
      "Requirement already satisfied: scipy>=1.3.1 in c:\\users\\toluw\\anaconda3\\lib\\site-packages (from orange3) (1.7.3)\n",
      "Requirement already satisfied: PyQt5!=5.15.1,>=5.12 in c:\\users\\toluw\\anaconda3\\lib\\site-packages (from orange3) (5.15.7)\n",
      "Requirement already satisfied: joblib>=0.11 in c:\\users\\toluw\\anaconda3\\lib\\site-packages (from orange3) (1.1.0)\n",
      "Requirement already satisfied: openTSNE>=0.6.1 in c:\\users\\toluw\\anaconda3\\lib\\site-packages (from orange3) (0.6.2)\n",
      "Requirement already satisfied: httpcore<0.16.0,>=0.15.0 in c:\\users\\toluw\\anaconda3\\lib\\site-packages (from httpx>=0.21.0->orange3) (0.15.0)\n",
      "Requirement already satisfied: rfc3986[idna2008]<2,>=1.3 in c:\\users\\toluw\\anaconda3\\lib\\site-packages (from httpx>=0.21.0->orange3) (1.5.0)\n",
      "Requirement already satisfied: certifi in c:\\users\\toluw\\anaconda3\\lib\\site-packages (from httpx>=0.21.0->orange3) (2021.10.8)\n",
      "Requirement already satisfied: sniffio in c:\\users\\toluw\\anaconda3\\lib\\site-packages (from httpx>=0.21.0->orange3) (1.2.0)\n",
      "Requirement already satisfied: h11<0.13,>=0.11 in c:\\users\\toluw\\anaconda3\\lib\\site-packages (from httpcore<0.16.0,>=0.15.0->httpx>=0.21.0->orange3) (0.12.0)\n",
      "Requirement already satisfied: anyio==3.* in c:\\users\\toluw\\anaconda3\\lib\\site-packages (from httpcore<0.16.0,>=0.15.0->httpx>=0.21.0->orange3) (3.5.0)\n",
      "Requirement already satisfied: idna>=2.8 in c:\\users\\toluw\\anaconda3\\lib\\site-packages (from anyio==3.*->httpcore<0.16.0,>=0.15.0->httpx>=0.21.0->orange3) (3.3)\n",
      "Requirement already satisfied: kiwisolver>=1.0.1 in c:\\users\\toluw\\anaconda3\\lib\\site-packages (from matplotlib>=2.2.5->orange3) (1.3.2)\n",
      "Requirement already satisfied: pyparsing>=2.2.1 in c:\\users\\toluw\\anaconda3\\lib\\site-packages (from matplotlib>=2.2.5->orange3) (3.0.4)\n",
      "Requirement already satisfied: cycler>=0.10 in c:\\users\\toluw\\anaconda3\\lib\\site-packages (from matplotlib>=2.2.5->orange3) (0.11.0)\n",
      "Requirement already satisfied: packaging>=20.0 in c:\\users\\toluw\\anaconda3\\lib\\site-packages (from matplotlib>=2.2.5->orange3) (21.3)\n",
      "Requirement already satisfied: fonttools>=4.22.0 in c:\\users\\toluw\\anaconda3\\lib\\site-packages (from matplotlib>=2.2.5->orange3) (4.25.0)\n",
      "Requirement already satisfied: python-dateutil>=2.7 in c:\\users\\toluw\\anaconda3\\lib\\site-packages (from matplotlib>=2.2.5->orange3) (2.8.2)\n",
      "Requirement already satisfied: pillow>=6.2.0 in c:\\users\\toluw\\anaconda3\\lib\\site-packages (from matplotlib>=2.2.5->orange3) (9.0.1)\n",
      "Requirement already satisfied: dictdiffer in c:\\users\\toluw\\anaconda3\\lib\\site-packages (from orange-canvas-core<0.2a,>=0.1.24->orange3) (0.9.0)\n",
      "Requirement already satisfied: commonmark>=0.8.1 in c:\\users\\toluw\\anaconda3\\lib\\site-packages (from orange-canvas-core<0.2a,>=0.1.24->orange3) (0.9.1)\n",
      "Requirement already satisfied: cachecontrol[filecache] in c:\\users\\toluw\\anaconda3\\lib\\site-packages (from orange-canvas-core<0.2a,>=0.1.24->orange3) (0.12.11)\n",
      "Requirement already satisfied: qasync in c:\\users\\toluw\\anaconda3\\lib\\site-packages (from orange-canvas-core<0.2a,>=0.1.24->orange3) (0.23.0)\n",
      "Requirement already satisfied: docutils in c:\\users\\toluw\\anaconda3\\lib\\site-packages (from orange-canvas-core<0.2a,>=0.1.24->orange3) (0.17.1)\n",
      "Requirement already satisfied: typing-extensions>=3.7.4.3 in c:\\users\\toluw\\anaconda3\\lib\\site-packages (from orange-widget-base>=4.16.1->orange3) (4.1.1)\n",
      "Requirement already satisfied: pytz>=2020.1 in c:\\users\\toluw\\anaconda3\\lib\\site-packages (from pandas>=1.3.0->orange3) (2021.3)\n",
      "Requirement already satisfied: PyQt5-sip<13,>=12.11 in c:\\users\\toluw\\anaconda3\\lib\\site-packages (from PyQt5!=5.15.1,>=5.12->orange3) (12.11.0)\n",
      "Requirement already satisfied: PyQt5-Qt5>=5.15.0 in c:\\users\\toluw\\anaconda3\\lib\\site-packages (from PyQt5!=5.15.1,>=5.12->orange3) (5.15.2)\n",
      "Requirement already satisfied: PyQtWebEngine-Qt5>=5.15.0 in c:\\users\\toluw\\anaconda3\\lib\\site-packages (from PyQtWebEngine>=5.12->orange3) (5.15.2)\n",
      "Requirement already satisfied: six>=1.5 in c:\\users\\toluw\\anaconda3\\lib\\site-packages (from python-dateutil>=2.7->matplotlib>=2.2.5->orange3) (1.16.0)\n",
      "Requirement already satisfied: jupyter-core in c:\\users\\toluw\\anaconda3\\lib\\site-packages (from qtconsole>=4.7.2->orange3) (4.9.2)\n",
      "Requirement already satisfied: ipykernel>=4.1 in c:\\users\\toluw\\anaconda3\\lib\\site-packages (from qtconsole>=4.7.2->orange3) (6.9.1)\n",
      "Requirement already satisfied: qtpy>=2.0.1 in c:\\users\\toluw\\anaconda3\\lib\\site-packages (from qtconsole>=4.7.2->orange3) (2.0.1)\n",
      "Requirement already satisfied: traitlets in c:\\users\\toluw\\anaconda3\\lib\\site-packages (from qtconsole>=4.7.2->orange3) (5.1.1)\n",
      "Requirement already satisfied: jupyter-client>=4.1 in c:\\users\\toluw\\anaconda3\\lib\\site-packages (from qtconsole>=4.7.2->orange3) (6.1.12)\n",
      "Requirement already satisfied: ipython-genutils in c:\\users\\toluw\\anaconda3\\lib\\site-packages (from qtconsole>=4.7.2->orange3) (0.2.0)\n",
      "Requirement already satisfied: pyzmq>=17.1 in c:\\users\\toluw\\anaconda3\\lib\\site-packages (from qtconsole>=4.7.2->orange3) (22.3.0)\n",
      "Requirement already satisfied: debugpy<2.0,>=1.0.0 in c:\\users\\toluw\\anaconda3\\lib\\site-packages (from ipykernel>=4.1->qtconsole>=4.7.2->orange3) (1.5.1)\n",
      "Requirement already satisfied: tornado<7.0,>=4.2 in c:\\users\\toluw\\anaconda3\\lib\\site-packages (from ipykernel>=4.1->qtconsole>=4.7.2->orange3) (6.1)\n",
      "Requirement already satisfied: ipython>=7.23.1 in c:\\users\\toluw\\anaconda3\\lib\\site-packages (from ipykernel>=4.1->qtconsole>=4.7.2->orange3) (8.2.0)\n",
      "Requirement already satisfied: nest-asyncio in c:\\users\\toluw\\anaconda3\\lib\\site-packages (from ipykernel>=4.1->qtconsole>=4.7.2->orange3) (1.5.5)\n",
      "Requirement already satisfied: matplotlib-inline<0.2.0,>=0.1.0 in c:\\users\\toluw\\anaconda3\\lib\\site-packages (from ipykernel>=4.1->qtconsole>=4.7.2->orange3) (0.1.2)\n",
      "Requirement already satisfied: pickleshare in c:\\users\\toluw\\anaconda3\\lib\\site-packages (from ipython>=7.23.1->ipykernel>=4.1->qtconsole>=4.7.2->orange3) (0.7.5)\n",
      "Requirement already satisfied: prompt-toolkit!=3.0.0,!=3.0.1,<3.1.0,>=2.0.0 in c:\\users\\toluw\\anaconda3\\lib\\site-packages (from ipython>=7.23.1->ipykernel>=4.1->qtconsole>=4.7.2->orange3) (3.0.20)\n",
      "Requirement already satisfied: backcall in c:\\users\\toluw\\anaconda3\\lib\\site-packages (from ipython>=7.23.1->ipykernel>=4.1->qtconsole>=4.7.2->orange3) (0.2.0)\n",
      "Requirement already satisfied: decorator in c:\\users\\toluw\\anaconda3\\lib\\site-packages (from ipython>=7.23.1->ipykernel>=4.1->qtconsole>=4.7.2->orange3) (5.1.1)\n",
      "Requirement already satisfied: colorama in c:\\users\\toluw\\anaconda3\\lib\\site-packages (from ipython>=7.23.1->ipykernel>=4.1->qtconsole>=4.7.2->orange3) (0.4.4)\n",
      "Requirement already satisfied: stack-data in c:\\users\\toluw\\anaconda3\\lib\\site-packages (from ipython>=7.23.1->ipykernel>=4.1->qtconsole>=4.7.2->orange3) (0.2.0)\n",
      "Requirement already satisfied: jedi>=0.16 in c:\\users\\toluw\\anaconda3\\lib\\site-packages (from ipython>=7.23.1->ipykernel>=4.1->qtconsole>=4.7.2->orange3) (0.18.1)\n",
      "Requirement already satisfied: parso<0.9.0,>=0.8.0 in c:\\users\\toluw\\anaconda3\\lib\\site-packages (from jedi>=0.16->ipython>=7.23.1->ipykernel>=4.1->qtconsole>=4.7.2->orange3) (0.8.3)\n",
      "Requirement already satisfied: pywin32>=1.0 in c:\\users\\toluw\\anaconda3\\lib\\site-packages (from jupyter-core->qtconsole>=4.7.2->orange3) (302)\n",
      "Requirement already satisfied: wcwidth in c:\\users\\toluw\\anaconda3\\lib\\site-packages (from prompt-toolkit!=3.0.0,!=3.0.1,<3.1.0,>=2.0.0->ipython>=7.23.1->ipykernel>=4.1->qtconsole>=4.7.2->orange3) (0.2.5)\n",
      "Requirement already satisfied: threadpoolctl>=2.0.0 in c:\\users\\toluw\\anaconda3\\lib\\site-packages (from scikit-learn>=1.0.1->orange3) (2.2.0)\n",
      "Requirement already satisfied: msgpack>=0.5.2 in c:\\users\\toluw\\anaconda3\\lib\\site-packages (from cachecontrol[filecache]->orange-canvas-core<0.2a,>=0.1.24->orange3) (1.0.2)\n",
      "Requirement already satisfied: lockfile>=0.9 in c:\\users\\toluw\\anaconda3\\lib\\site-packages (from cachecontrol[filecache]->orange-canvas-core<0.2a,>=0.1.24->orange3) (0.12.2)\n",
      "Requirement already satisfied: importlib-metadata>=3.6 in c:\\users\\toluw\\anaconda3\\lib\\site-packages (from keyring->orange3) (4.11.3)\n",
      "Requirement already satisfied: pywin32-ctypes!=0.1.0,!=0.1.1 in c:\\users\\toluw\\anaconda3\\lib\\site-packages (from keyring->orange3) (0.2.0)\n",
      "Requirement already satisfied: zipp>=0.5 in c:\\users\\toluw\\anaconda3\\lib\\site-packages (from importlib-metadata>=3.6->keyring->orange3) (3.7.0)\n",
      "Requirement already satisfied: et-xmlfile in c:\\users\\toluw\\anaconda3\\lib\\site-packages (from openpyxl->orange3) (1.1.0)\n",
      "Requirement already satisfied: urllib3<1.27,>=1.21.1 in c:\\users\\toluw\\anaconda3\\lib\\site-packages (from requests->orange3) (1.26.9)\n",
      "Requirement already satisfied: charset-normalizer~=2.0.0 in c:\\users\\toluw\\anaconda3\\lib\\site-packages (from requests->orange3) (2.0.4)\n",
      "Requirement already satisfied: executing in c:\\users\\toluw\\anaconda3\\lib\\site-packages (from stack-data->ipython>=7.23.1->ipykernel>=4.1->qtconsole>=4.7.2->orange3) (0.8.3)\n",
      "Requirement already satisfied: pure-eval in c:\\users\\toluw\\anaconda3\\lib\\site-packages (from stack-data->ipython>=7.23.1->ipykernel>=4.1->qtconsole>=4.7.2->orange3) (0.2.2)\n",
      "Requirement already satisfied: asttokens in c:\\users\\toluw\\anaconda3\\lib\\site-packages (from stack-data->ipython>=7.23.1->ipykernel>=4.1->qtconsole>=4.7.2->orange3) (2.0.5)\n",
      "Note: you may need to restart the kernel to use updated packages.\n"
     ]
    }
   ],
   "source": [
    "\n",
    "pip install orange3"
   ]
  },
  {
   "cell_type": "code",
   "execution_count": 4,
   "metadata": {},
   "outputs": [],
   "source": [
    "import Orange"
   ]
  },
  {
   "cell_type": "code",
   "execution_count": 7,
   "metadata": {},
   "outputs": [
    {
     "name": "stdout",
     "output_type": "stream",
     "text": [
      "Original Dataset: \n",
      "[0.00632, 18.0, 2.31, 0, 0.5380, 6.575, 65.2, 4.0900, 1, 296, 15.3, 396.90, 4.98 | 24.0]\n",
      "[0.02731, 0.0, 7.07, 0, 0.4690, 6.421, 78.9, 4.9671, 2, 242, 17.8, 396.90, 9.14 | 21.6]\n",
      "[0.02729, 0.0, 7.07, 0, 0.4690, 7.185, 61.1, 4.9671, 2, 242, 17.8, 392.83, 4.03 | 34.7]\n",
      "Discretized Dataset: \n",
      "[< 0.114285, 6.25 - 31.5, < 6.145, < 0.5, 0.4885 - 0.591, ≥ 6.44, 56.45 - 90.15, 2.3852 - 4.3111, < 4.5, < 302, < 17.85, ≥ 394.935, < 8.345 | 24.0]\n",
      "[< 0.114285, < 6.25, 6.145 - 16.57, < 0.5, < 0.4885, 5.9855 - 6.44, 56.45 - 90.15, ≥ 4.3111, < 4.5, < 302, < 17.85, ≥ 394.935, 8.345 - 14.695 | 21.6]\n",
      "[< 0.114285, < 6.25, 6.145 - 16.57, < 0.5, < 0.4885, ≥ 6.44, 56.45 - 90.15, ≥ 4.3111, < 4.5, < 302, < 17.85, 383.49 - 394.935, < 8.345 | 34.7]\n"
     ]
    }
   ],
   "source": [
    "# Discreetization\n",
    "\n",
    "health = Orange.data.Table(\"https://raw.githubusercontent.com/biolab/orange3/master/Orange/datasets/housing.tab\")\n",
    "dis = Orange.preprocess.Discretize()\n",
    "dis.method=Orange.preprocess.discretize.EqualFreq(n=3)\n",
    "d_heal = dis(health)\n",
    "\n",
    "print(\"Original Dataset: \")\n",
    "for e in health[:3]:\n",
    "  print(e)\n",
    "\n",
    "print(\"Discretized Dataset: \")\n",
    "for e in d_heal[:3]:\n",
    "  print(e)"
   ]
  },
  {
   "cell_type": "code",
   "execution_count": 8,
   "metadata": {},
   "outputs": [
    {
     "name": "stdout",
     "output_type": "stream",
     "text": [
      "Before Normalization:  [0.02729, 0.0, 7.07, 0, 0.4690, 7.185, 61.1, 4.9671, 2, 242, 17.8, 392.83, 4.03 | 34.7]\n",
      "After Normalization:  [0.000235698, 0.000, 0.242302, 0, 0.172840, 0.694386, 0.59938, 0.348962, 0.0435, 0.10496, 0.5532, 0.9897373, 0.063466 | 34.7]\n"
     ]
    }
   ],
   "source": [
    "#Normalization\n",
    "from Orange.preprocess import Normalize\n",
    "normalizer = Normalize(norm_type=Normalize.NormalizeBySpan)\n",
    "normalized_data = normalizer(health)\n",
    "print(\"Before Normalization: \",health[2])\n",
    "print(\"After Normalization: \",normalized_data[2])"
   ]
  },
  {
   "cell_type": "code",
   "execution_count": 9,
   "metadata": {},
   "outputs": [
    {
     "name": "stdout",
     "output_type": "stream",
     "text": [
      "Before Randomization:  [0.02729, 0.0, 7.07, 0, 0.4690, 7.185, 61.1, 4.9671, 2, 242, 17.8, 392.83, 4.03 | 34.7]\n",
      "After Randomization:  [0.000235698, 0.000, 0.242302, 0, 0.172840, 0.694386, 0.59938, 0.348962, 0.0435, 0.10496, 0.5532, 0.9897373, 0.063466 | 34.7]\n"
     ]
    }
   ],
   "source": [
    "#Randomization\n",
    "from Orange.preprocess import Randomize\n",
    "randomizer = Randomize(Randomize.RandomizeClasses)\n",
    "randomized_data = randomizer(health)\n",
    "print(\"Before Randomization: \",health[2])\n",
    "print(\"After Randomization: \",normalized_data[2])"
   ]
  },
  {
   "cell_type": "code",
   "execution_count": 10,
   "metadata": {},
   "outputs": [
    {
     "name": "stdout",
     "output_type": "stream",
     "text": [
      "Before Continuation:  [status, age, sex | survived]\n",
      "After Continuation:  [status=crew, status=first, status=second, status=third, age=adult, age=child, sex=female, sex=male | survived]\n",
      "17th Row Before Continuation:  [first, adult, male | yes]\n",
      "17th Row After Continuation:  [0, 1, 0, 0, 1, 0, 0, 1 | yes]\n"
     ]
    }
   ],
   "source": [
    "#Continuization\n",
    "titanic = Orange.data.Table(\"https://raw.githubusercontent.com/biolab/orange3/master/Orange/datasets/titanic.tab\")\n",
    "continuizer = Orange.preprocess.Continuize()\n",
    "titanic1 = continuizer(titanic)\n",
    "\n",
    "print(\"Before Continuation: \",titanic.domain)\n",
    "print(\"After Continuation: \",titanic1.domain)\n",
    "\n",
    "print(\"17th Row Before Continuation: \",titanic[17])\n",
    "print(\"17th Row After Continuation: \",titanic1[17])"
   ]
  },
  {
   "cell_type": "code",
   "execution_count": 13,
   "metadata": {},
   "outputs": [],
   "source": [
    "pip uninstall Orange3"
   ]
  },
  {
   "cell_type": "code",
   "execution_count": null,
   "metadata": {},
   "outputs": [],
   "source": [
    "conda install -c conda-forge orange3"
   ]
  }
 ],
 "metadata": {
  "kernelspec": {
   "display_name": "Python 3.9.12 ('base')",
   "language": "python",
   "name": "python3"
  },
  "language_info": {
   "codemirror_mode": {
    "name": "ipython",
    "version": 3
   },
   "file_extension": ".py",
   "mimetype": "text/x-python",
   "name": "python",
   "nbconvert_exporter": "python",
   "pygments_lexer": "ipython3",
   "version": "3.9.12"
  },
  "orig_nbformat": 4,
  "vscode": {
   "interpreter": {
    "hash": "5e7cbeb742f02d765fcec4b3e42c8713f0c6d06ac97c88ada4b0856650159d56"
   }
  }
 },
 "nbformat": 4,
 "nbformat_minor": 2
}
